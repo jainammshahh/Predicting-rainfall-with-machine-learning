{
 "cells": [
  {
   "cell_type": "code",
   "execution_count": 63,
   "id": "99948914",
   "metadata": {},
   "outputs": [],
   "source": [
    "import numpy as np\n",
    "import pandas as pd\n",
    "import matplotlib.pyplot as plt\n",
    "import seaborn as sns\n",
    "import xgboost as xgb\n",
    "import optuna\n",
    "from sklearn.ensemble import StackingClassifier\n",
    "\n",
    "from mlxtend.plotting import plot_learning_curves\n",
    "from sklearn.metrics import classification_report\n",
    "from sklearn.metrics import ConfusionMatrixDisplay\n",
    "from imblearn.under_sampling import RandomUnderSampler\n",
    "from imblearn.over_sampling  import RandomOverSampler\n",
    "from sklearn.feature_selection import RFE\n",
    "from sklearn.model_selection import RandomizedSearchCV\n",
    "from sklearn.ensemble import RandomForestClassifier\n",
    "from lightgbm import LGBMClassifier\n",
    "from sklearn.ensemble import VotingClassifier\n",
    "from sklearn.metrics import roc_auc_score\n",
    "from sklearn.model_selection import cross_val_score\n",
    "from sklearn.metrics import accuracy_score ,confusion_matrix\n",
    "from sklearn.decomposition import PCA\n",
    "from vecstack import stacking"
   ]
  },
  {
   "cell_type": "code",
   "execution_count": 64,
   "id": "a7cbb5d8",
   "metadata": {},
   "outputs": [
    {
     "name": "stdout",
     "output_type": "stream",
     "text": [
      " Shape of  Dataset: (566, 52)\n"
     ]
    }
   ],
   "source": [
    "df = pd.read_csv('wtrain_data.csv')\n",
    "test=pd.read_csv('wtest_data.csv')\n",
    "labels_df = pd.read_csv(\"solution_train.csv\",sep=',')\n",
    "\n",
    "print(f' Shape of  Dataset: {df.shape}')"
   ]
  },
  {
   "cell_type": "code",
   "execution_count": 65,
   "id": "173572fc",
   "metadata": {},
   "outputs": [
    {
     "name": "stdout",
     "output_type": "stream",
     "text": [
      " X_shape: (566, 50) \n",
      " y_shape: (566,)\n"
     ]
    }
   ],
   "source": [
    "X = df.drop(['date','label'],axis=1)\n",
    "y = df['label']\n",
    "\n",
    "print(f' X_shape: {X.shape} \\n y_shape: {y.shape}')"
   ]
  },
  {
   "cell_type": "code",
   "execution_count": 66,
   "id": "dc1f2fd5",
   "metadata": {},
   "outputs": [
    {
     "name": "stdout",
     "output_type": "stream",
     "text": [
      "Fitting estimator with 50 features.\n",
      "Fitting estimator with 45 features.\n",
      "Fitting estimator with 40 features.\n",
      "Fitting estimator with 35 features.\n",
      "Fitting estimator with 30 features.\n",
      "Fitting estimator with 25 features.\n"
     ]
    },
    {
     "data": {
      "text/plain": [
       "RFE(estimator=RandomForestClassifier(n_estimators=32), n_features_to_select=20,\n",
       "    step=5, verbose=5)"
      ]
     },
     "execution_count": 66,
     "metadata": {},
     "output_type": "execute_result"
    }
   ],
   "source": [
    "rf_clf = RandomForestClassifier(n_estimators=32)\n",
    "rfe_selector = RFE(estimator=rf_clf, n_features_to_select=20, step=5, verbose=5)\n",
    "rfe_selector.fit(X, y)"
   ]
  },
  {
   "cell_type": "code",
   "execution_count": 67,
   "id": "6e2dd63e",
   "metadata": {},
   "outputs": [
    {
     "name": "stdout",
     "output_type": "stream",
     "text": [
      "['avg.temp_B', 'avg.temp_D', 'avg.wind.speed_A', 'avg.wind.speed_D', 'avg.wind.speed_E', 'max.inst.wind.speed_A', 'max.inst.wind.speed_B', 'max.inst.wind.speed_C', 'max.inst.wind.speed_D', 'max.inst.wind.speed_E', 'max.wind.speed_A', 'max.wind.speed_B', 'max.wind.speed_D', 'max.wind.speed_E', 'min.atmos.pressure_A', 'min.temp_A', 'min.temp_B', 'min.temp_E', 'precipitation_A', 'precipitation_D']\n",
      "*******************************************************************************************\n",
      "20 selected features\n"
     ]
    }
   ],
   "source": [
    "rfe_support = rfe_selector.get_support()\n",
    "\n",
    "rfe_feature = X.loc[:,rfe_support].columns.tolist()\n",
    "print(rfe_feature)\n",
    "print('*******************************************************************************************')\n",
    "print(str(len(rfe_feature)), 'selected features')"
   ]
  },
  {
   "cell_type": "code",
   "execution_count": 68,
   "id": "830c3457",
   "metadata": {},
   "outputs": [
    {
     "name": "stdout",
     "output_type": "stream",
     "text": [
      " X_shape: (566, 20) \n",
      " y_shape: (566,)\n"
     ]
    }
   ],
   "source": [
    "X  = df[rfe_feature]\n",
    "y = df['label']\n",
    "\n",
    "print(f' X_shape: {X.shape} \\n y_shape: {y.shape}')"
   ]
  },
  {
   "cell_type": "code",
   "execution_count": 69,
   "id": "0493b096",
   "metadata": {},
   "outputs": [
    {
     "name": "stdout",
     "output_type": "stream",
     "text": [
      " Shape of X after Oversampling: (1062, 20) \n",
      " Shape of y after Oversampling: (1062,)\n"
     ]
    }
   ],
   "source": [
    "rs = RandomOverSampler()\n",
    "X_resample, y_resample = rs.fit_resample(X,y)\n",
    "\n",
    "print(f' Shape of X after Oversampling: {X_resample.shape} \\n Shape of y after Oversampling: {y_resample.shape}')"
   ]
  },
  {
   "cell_type": "code",
   "execution_count": 70,
   "id": "b65f6176",
   "metadata": {},
   "outputs": [
    {
     "name": "stdout",
     "output_type": "stream",
     "text": [
      " Shape of X_train: (849, 20) & Shape of X_test: (213, 20)\n",
      " Shape of y_train: (849,) & Shape of y_test: (213,)\n"
     ]
    }
   ],
   "source": [
    "from sklearn.model_selection import train_test_split\n",
    "X_train_res, X_test_res, y_train_res, y_test_res = train_test_split(X_rescale,y_resample,test_size=0.20,shuffle=True,random_state=21)\n",
    "print(f' Shape of X_train: {X_train_res.shape} & Shape of X_test: {X_test_res.shape}')\n",
    "print(f' Shape of y_train: {y_train_res.shape} & Shape of y_test: {y_test_res.shape}')"
   ]
  },
  {
   "cell_type": "code",
   "execution_count": 71,
   "id": "7859d79f",
   "metadata": {},
   "outputs": [],
   "source": [
    "from sklearn.preprocessing import StandardScaler\n",
    "scaler = StandardScaler()\n",
    "X_train_res = scaler.fit_transform(X_train_res)\n",
    "X_test_res = scaler.transform(X_test_res)"
   ]
  },
  {
   "cell_type": "code",
   "execution_count": 77,
   "id": "b9bddf97",
   "metadata": {},
   "outputs": [],
   "source": [
    "from xgboost import XGBClassifier\n",
    "\n",
    "xgb = XGBClassifier(booster = 'gbtree', learning_rate = 0.1, max_depth = 5, n_estimators = 180)\n",
    "xgb.fit(X_train_res, y_train_res);"
   ]
  },
  {
   "cell_type": "code",
   "execution_count": 78,
   "id": "376b8f99",
   "metadata": {},
   "outputs": [
    {
     "name": "stdout",
     "output_type": "stream",
     "text": [
      "Accuracy obtained by XGB Classifier model: 89.67136150234741\n"
     ]
    }
   ],
   "source": [
    "XGBClassifierScore = xgb.score(X_test_res,y_test_res)\n",
    "print(\"Accuracy obtained by XGB Classifier model:\", XGBClassifierScore*100)"
   ]
  },
  {
   "cell_type": "code",
   "execution_count": 79,
   "id": "acec3c43",
   "metadata": {},
   "outputs": [
    {
     "name": "stdout",
     "output_type": "stream",
     "text": [
      "              precision    recall  f1-score   support\n",
      "\n",
      "           0       0.96      1.00      0.98        75\n",
      "           1       0.81      0.93      0.86        67\n",
      "           2       0.93      0.76      0.84        71\n",
      "\n",
      "    accuracy                           0.90       213\n",
      "   macro avg       0.90      0.90      0.89       213\n",
      "weighted avg       0.90      0.90      0.90       213\n",
      "\n"
     ]
    }
   ],
   "source": [
    "y_pred_xgb = xgb.predict(X_test_res)\n",
    "print(metrics.classification_report(y_test_res, y_pred_xgb))"
   ]
  },
  {
   "cell_type": "code",
   "execution_count": null,
   "id": "e4d2b96f",
   "metadata": {},
   "outputs": [],
   "source": []
  }
 ],
 "metadata": {
  "kernelspec": {
   "display_name": "Python 3 (ipykernel)",
   "language": "python",
   "name": "python3"
  },
  "language_info": {
   "codemirror_mode": {
    "name": "ipython",
    "version": 3
   },
   "file_extension": ".py",
   "mimetype": "text/x-python",
   "name": "python",
   "nbconvert_exporter": "python",
   "pygments_lexer": "ipython3",
   "version": "3.9.12"
  }
 },
 "nbformat": 4,
 "nbformat_minor": 5
}
